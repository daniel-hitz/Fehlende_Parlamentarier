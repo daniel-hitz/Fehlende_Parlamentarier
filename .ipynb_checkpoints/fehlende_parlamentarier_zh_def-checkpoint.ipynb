{
 "cells": [
  {
   "cell_type": "markdown",
   "id": "ebcaa7eb",
   "metadata": {},
   "source": [
    "# Fehlende Parlamentarier ZH"
   ]
  },
  {
   "cell_type": "markdown",
   "id": "3c9ba72a",
   "metadata": {},
   "source": [
    "Quelle: https://www.pragmatiqa.com/xodata/# und https://ws-old.parlament.ch/ "
   ]
  },
  {
   "cell_type": "code",
   "execution_count": 3,
   "id": "0b13a4f3",
   "metadata": {},
   "outputs": [],
   "source": [
    "import pandas as pd\n",
    "import requests as r"
   ]
  },
  {
   "cell_type": "markdown",
   "id": "74b3bffb",
   "metadata": {},
   "source": [
    "Gesetzte Filter: Legislatur Periode = 51, Language = DE, Canton = ZH, Decision = NT (Nicht teilgenommen) (die entschuldigten Abwesenheiten wegen Krankheit, Unfall oder Schwangerschaft usw. sind nicht dabei!)"
   ]
  },
  {
   "cell_type": "code",
   "execution_count": 4,
   "id": "9a3a8d6f",
   "metadata": {},
   "outputs": [],
   "source": [
    "with open (\"liste_parlamentarier.csv\") as file:\n",
    "    for line in file:\n",
    "        data = line.split(\"\\n\")"
   ]
  },
  {
   "cell_type": "code",
   "execution_count": 5,
   "id": "e86e6c5a",
   "metadata": {},
   "outputs": [],
   "source": [
    "df = pd.read_csv('liste_parlamentarier.csv')"
   ]
  },
  {
   "cell_type": "code",
   "execution_count": 6,
   "id": "f9c60117",
   "metadata": {},
   "outputs": [
    {
     "data": {
      "text/plain": [
       "FirstName         object\n",
       "LastName          object\n",
       "DecisionText      object\n",
       "BusinessNumber     int64\n",
       "BusinessTitle     object\n",
       "VoteEnd           object\n",
       "dtype: object"
      ]
     },
     "execution_count": 6,
     "metadata": {},
     "output_type": "execute_result"
    }
   ],
   "source": [
    "df.dtypes"
   ]
  },
  {
   "cell_type": "code",
   "execution_count": 7,
   "id": "a72a278d",
   "metadata": {},
   "outputs": [
    {
     "data": {
      "text/plain": [
       "(9586, 6)"
      ]
     },
     "execution_count": 7,
     "metadata": {},
     "output_type": "execute_result"
    }
   ],
   "source": [
    "df.shape"
   ]
  },
  {
   "cell_type": "code",
   "execution_count": 8,
   "id": "9e0fdca9",
   "metadata": {},
   "outputs": [
    {
     "data": {
      "text/html": [
       "<div>\n",
       "<style scoped>\n",
       "    .dataframe tbody tr th:only-of-type {\n",
       "        vertical-align: middle;\n",
       "    }\n",
       "\n",
       "    .dataframe tbody tr th {\n",
       "        vertical-align: top;\n",
       "    }\n",
       "\n",
       "    .dataframe thead th {\n",
       "        text-align: right;\n",
       "    }\n",
       "</style>\n",
       "<table border=\"1\" class=\"dataframe\">\n",
       "  <thead>\n",
       "    <tr style=\"text-align: right;\">\n",
       "      <th></th>\n",
       "      <th>FirstName</th>\n",
       "      <th>LastName</th>\n",
       "      <th>DecisionText</th>\n",
       "      <th>BusinessNumber</th>\n",
       "      <th>BusinessTitle</th>\n",
       "      <th>VoteEnd</th>\n",
       "    </tr>\n",
       "  </thead>\n",
       "  <tbody>\n",
       "    <tr>\n",
       "      <th>0</th>\n",
       "      <td>Jacqueline</td>\n",
       "      <td>Badran</td>\n",
       "      <td>Hat nicht teilgenommen</td>\n",
       "      <td>20180077</td>\n",
       "      <td>Raumplanungsgesetz. Teilrevision. 2. Etappe</td>\n",
       "      <td>2019-12-03T09:52:48</td>\n",
       "    </tr>\n",
       "    <tr>\n",
       "      <th>1</th>\n",
       "      <td>Jacqueline</td>\n",
       "      <td>Badran</td>\n",
       "      <td>Hat nicht teilgenommen</td>\n",
       "      <td>20190041</td>\n",
       "      <td>Voranschlag 2020 mit integriertem Aufgaben- un...</td>\n",
       "      <td>2019-12-05T08:20:37</td>\n",
       "    </tr>\n",
       "    <tr>\n",
       "      <th>2</th>\n",
       "      <td>Jacqueline</td>\n",
       "      <td>Badran</td>\n",
       "      <td>Hat nicht teilgenommen</td>\n",
       "      <td>20190041</td>\n",
       "      <td>Voranschlag 2020 mit integriertem Aufgaben- un...</td>\n",
       "      <td>2019-12-05T08:21:34</td>\n",
       "    </tr>\n",
       "    <tr>\n",
       "      <th>3</th>\n",
       "      <td>Jacqueline</td>\n",
       "      <td>Badran</td>\n",
       "      <td>Hat nicht teilgenommen</td>\n",
       "      <td>20190041</td>\n",
       "      <td>Voranschlag 2020 mit integriertem Aufgaben- un...</td>\n",
       "      <td>2019-12-05T08:23:10</td>\n",
       "    </tr>\n",
       "    <tr>\n",
       "      <th>4</th>\n",
       "      <td>Jacqueline</td>\n",
       "      <td>Badran</td>\n",
       "      <td>Hat nicht teilgenommen</td>\n",
       "      <td>20190041</td>\n",
       "      <td>Voranschlag 2020 mit integriertem Aufgaben- un...</td>\n",
       "      <td>2019-12-05T08:24:47</td>\n",
       "    </tr>\n",
       "    <tr>\n",
       "      <th>5</th>\n",
       "      <td>Jacqueline</td>\n",
       "      <td>Badran</td>\n",
       "      <td>Hat nicht teilgenommen</td>\n",
       "      <td>20190041</td>\n",
       "      <td>Voranschlag 2020 mit integriertem Aufgaben- un...</td>\n",
       "      <td>2019-12-05T08:27:10</td>\n",
       "    </tr>\n",
       "    <tr>\n",
       "      <th>6</th>\n",
       "      <td>Jacqueline</td>\n",
       "      <td>Badran</td>\n",
       "      <td>Hat nicht teilgenommen</td>\n",
       "      <td>20190041</td>\n",
       "      <td>Voranschlag 2020 mit integriertem Aufgaben- un...</td>\n",
       "      <td>2019-12-05T08:28:07</td>\n",
       "    </tr>\n",
       "    <tr>\n",
       "      <th>7</th>\n",
       "      <td>Jacqueline</td>\n",
       "      <td>Badran</td>\n",
       "      <td>Hat nicht teilgenommen</td>\n",
       "      <td>20190041</td>\n",
       "      <td>Voranschlag 2020 mit integriertem Aufgaben- un...</td>\n",
       "      <td>2019-12-05T08:29:34</td>\n",
       "    </tr>\n",
       "    <tr>\n",
       "      <th>8</th>\n",
       "      <td>Jacqueline</td>\n",
       "      <td>Badran</td>\n",
       "      <td>Hat nicht teilgenommen</td>\n",
       "      <td>20190041</td>\n",
       "      <td>Voranschlag 2020 mit integriertem Aufgaben- un...</td>\n",
       "      <td>2019-12-05T08:31:00</td>\n",
       "    </tr>\n",
       "    <tr>\n",
       "      <th>9</th>\n",
       "      <td>Jacqueline</td>\n",
       "      <td>Badran</td>\n",
       "      <td>Hat nicht teilgenommen</td>\n",
       "      <td>20190041</td>\n",
       "      <td>Voranschlag 2020 mit integriertem Aufgaben- un...</td>\n",
       "      <td>2019-12-05T08:32:30</td>\n",
       "    </tr>\n",
       "  </tbody>\n",
       "</table>\n",
       "</div>"
      ],
      "text/plain": [
       "    FirstName LastName            DecisionText  BusinessNumber  \\\n",
       "0  Jacqueline   Badran  Hat nicht teilgenommen        20180077   \n",
       "1  Jacqueline   Badran  Hat nicht teilgenommen        20190041   \n",
       "2  Jacqueline   Badran  Hat nicht teilgenommen        20190041   \n",
       "3  Jacqueline   Badran  Hat nicht teilgenommen        20190041   \n",
       "4  Jacqueline   Badran  Hat nicht teilgenommen        20190041   \n",
       "5  Jacqueline   Badran  Hat nicht teilgenommen        20190041   \n",
       "6  Jacqueline   Badran  Hat nicht teilgenommen        20190041   \n",
       "7  Jacqueline   Badran  Hat nicht teilgenommen        20190041   \n",
       "8  Jacqueline   Badran  Hat nicht teilgenommen        20190041   \n",
       "9  Jacqueline   Badran  Hat nicht teilgenommen        20190041   \n",
       "\n",
       "                                       BusinessTitle              VoteEnd  \n",
       "0        Raumplanungsgesetz. Teilrevision. 2. Etappe  2019-12-03T09:52:48  \n",
       "1  Voranschlag 2020 mit integriertem Aufgaben- un...  2019-12-05T08:20:37  \n",
       "2  Voranschlag 2020 mit integriertem Aufgaben- un...  2019-12-05T08:21:34  \n",
       "3  Voranschlag 2020 mit integriertem Aufgaben- un...  2019-12-05T08:23:10  \n",
       "4  Voranschlag 2020 mit integriertem Aufgaben- un...  2019-12-05T08:24:47  \n",
       "5  Voranschlag 2020 mit integriertem Aufgaben- un...  2019-12-05T08:27:10  \n",
       "6  Voranschlag 2020 mit integriertem Aufgaben- un...  2019-12-05T08:28:07  \n",
       "7  Voranschlag 2020 mit integriertem Aufgaben- un...  2019-12-05T08:29:34  \n",
       "8  Voranschlag 2020 mit integriertem Aufgaben- un...  2019-12-05T08:31:00  \n",
       "9  Voranschlag 2020 mit integriertem Aufgaben- un...  2019-12-05T08:32:30  "
      ]
     },
     "execution_count": 8,
     "metadata": {},
     "output_type": "execute_result"
    }
   ],
   "source": [
    "df.head(10)"
   ]
  },
  {
   "cell_type": "markdown",
   "id": "4cfe70f6",
   "metadata": {},
   "source": [
    "Anzahl einzelner Abstimmungen gefehlt:"
   ]
  },
  {
   "cell_type": "code",
   "execution_count": 9,
   "id": "5d3e29e1",
   "metadata": {},
   "outputs": [
    {
     "name": "stdout",
     "output_type": "stream",
     "text": [
      "Köppel           1356\n",
      "Bäumle           1014\n",
      "Kutter            683\n",
      "Badran            540\n",
      "Heer              485\n",
      "Schneider         477\n",
      "Bellaiche         416\n",
      "Fiala             376\n",
      "Steinemann        353\n",
      "Portmann          327\n",
      "Vogt              319\n",
      "Meyer             302\n",
      "Moser             299\n",
      "Girod             269\n",
      "Walti             231\n",
      "Mäder             213\n",
      "Glättli           203\n",
      "Haab              186\n",
      "Sauter            171\n",
      "Marti             140\n",
      "Matter            136\n",
      "Rutz              135\n",
      "Gugger            131\n",
      "Prelicz-Huber     114\n",
      "Gredig            111\n",
      "Silberschmidt     109\n",
      "Schaffner         101\n",
      "Molina             98\n",
      "Seiler Graf        81\n",
      "Tuena              69\n",
      "Barrile            55\n",
      "Schlatter          28\n",
      "Widmer             21\n",
      "Schläpfer          16\n",
      "Fischer            11\n",
      "Walliser           10\n",
      "Name: LastName, dtype: int64\n"
     ]
    }
   ],
   "source": [
    "verpasste_abstimmungen = df['LastName'].value_counts()\n",
    "print(verpasste_abstimmungen)"
   ]
  },
  {
   "cell_type": "code",
   "execution_count": 10,
   "id": "30ed7a12",
   "metadata": {},
   "outputs": [
    {
     "data": {
      "text/plain": [
       "266.28"
      ]
     },
     "execution_count": 10,
     "metadata": {},
     "output_type": "execute_result"
    }
   ],
   "source": [
    "round(verpasste_abstimmungen.mean(),2)"
   ]
  },
  {
   "cell_type": "markdown",
   "id": "def1aa04",
   "metadata": {},
   "source": [
    "Die Liste zeigt alle verpassten Abstimmungen. Nun beinhalten gewisse Geschäfte mehrere Abstimmungen wie Ordnungsanträge oder Änderungsanträge. Fairer - und sinvnoller - wäre wohl also die Aussage, bei wie vielen Geschäften die Politiker mindestens eine Teilabstimmung verpasst haben."
   ]
  },
  {
   "cell_type": "code",
   "execution_count": 11,
   "id": "10b83e83",
   "metadata": {},
   "outputs": [
    {
     "name": "stdout",
     "output_type": "stream",
     "text": [
      "LastName\n",
      "Köppel           732\n",
      "Bäumle           534\n",
      "Badran           308\n",
      "Heer             301\n",
      "Kutter           300\n",
      "Bellaiche        281\n",
      "Fiala            222\n",
      "Meyer            196\n",
      "Portmann         190\n",
      "Steinemann       186\n",
      "Schneider        171\n",
      "Walti            169\n",
      "Moser            158\n",
      "Glättli          153\n",
      "Haab             134\n",
      "Girod            121\n",
      "Vogt             120\n",
      "Sauter           115\n",
      "Marti            113\n",
      "Rutz              90\n",
      "Gugger            86\n",
      "Matter            85\n",
      "Mäder             77\n",
      "Schaffner         76\n",
      "Molina            75\n",
      "Gredig            72\n",
      "Prelicz-Huber     70\n",
      "Silberschmidt     69\n",
      "Seiler Graf       63\n",
      "Tuena             47\n",
      "Schlatter         24\n",
      "Barrile           22\n",
      "Widmer            20\n",
      "Schläpfer         15\n",
      "Walliser          10\n",
      "Fischer           10\n",
      "Name: BusinessNumber, dtype: int64\n"
     ]
    }
   ],
   "source": [
    "verpasste_geschaefte = df.groupby('LastName')['BusinessNumber'].nunique().sort_values(ascending=False)\n",
    "print(verpasste_geschaefte)"
   ]
  },
  {
   "cell_type": "code",
   "execution_count": 12,
   "id": "4a6d3f33",
   "metadata": {},
   "outputs": [
    {
     "data": {
      "text/plain": [
       "150.42"
      ]
     },
     "execution_count": 12,
     "metadata": {},
     "output_type": "execute_result"
    }
   ],
   "source": [
    "round(verpasste_geschaefte.mean(),2)"
   ]
  },
  {
   "cell_type": "markdown",
   "id": "35dc66d0",
   "metadata": {},
   "source": [
    "Nun gut, ein Geschäft kann man schnell mal verpassen, wenn man sich in der Wandelhalle rumtreibt. An wie vielen Tagen haben die Politiker gefehlt oder teilweise gefehlt? Ich habe dazu berechnet, an wie vielen Tagen die Politiker bei mindestens fünf verschiedenen Geschäften bei einer Abstimmung gefehlt haben."
   ]
  },
  {
   "cell_type": "code",
   "execution_count": 13,
   "id": "4eb67b7e",
   "metadata": {},
   "outputs": [
    {
     "name": "stdout",
     "output_type": "stream",
     "text": [
      "LastName\n",
      "Köppel           28\n",
      "Bäumle           24\n",
      "Kutter           15\n",
      "Badran           12\n",
      "Schneider        11\n",
      "Girod             9\n",
      "Bellaiche         7\n",
      "Fiala             7\n",
      "Vogt              7\n",
      "Steinemann        7\n",
      "Portmann          7\n",
      "Heer              7\n",
      "Moser             6\n",
      "Mäder             6\n",
      "Meyer             5\n",
      "Walti             4\n",
      "Barrile           3\n",
      "Marti             3\n",
      "Sauter            3\n",
      "Gredig            3\n",
      "Glättli           3\n",
      "Molina            2\n",
      "Matter            2\n",
      "Haab              2\n",
      "Prelicz-Huber     2\n",
      "Gugger            2\n",
      "Silberschmidt     2\n",
      "Tuena             2\n",
      "Rutz              1\n",
      "Schaffner         1\n",
      "Seiler Graf       1\n",
      "Name: VoteEnd, dtype: int64\n"
     ]
    }
   ],
   "source": [
    "df['VoteEnd'] = pd.to_datetime(df['VoteEnd']).dt.date\n",
    "counts = df.groupby(['LastName', 'BusinessNumber','VoteEnd']).size().reset_index(name='Count')\n",
    "filtered_counts = counts[counts['Count'] > 5]\n",
    "gefehlte_tage = filtered_counts.groupby('LastName')['VoteEnd'].nunique().sort_values(ascending = False)\n",
    "print(gefehlte_tage)"
   ]
  }
 ],
 "metadata": {
  "kernelspec": {
   "display_name": "Python 3 (ipykernel)",
   "language": "python",
   "name": "python3"
  },
  "language_info": {
   "codemirror_mode": {
    "name": "ipython",
    "version": 3
   },
   "file_extension": ".py",
   "mimetype": "text/x-python",
   "name": "python",
   "nbconvert_exporter": "python",
   "pygments_lexer": "ipython3",
   "version": "3.8.17"
  }
 },
 "nbformat": 4,
 "nbformat_minor": 5
}
